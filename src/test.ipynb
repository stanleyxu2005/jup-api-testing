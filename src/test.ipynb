{
 "cells": [
  {
   "cell_type": "code",
   "execution_count": 1,
   "id": "e9b3ebc6-304c-406c-a330-4f98f4db46e8",
   "metadata": {},
   "outputs": [
    {
     "name": "stdout",
     "output_type": "stream",
     "text": [
      "%get  /path/to/endpoint?param=value\n",
      "%post /path/to/endpoint data={} header={}\n"
     ]
    }
   ],
   "source": [
    "from ext.api_ext import load_ipython_extension\n",
    "load_ipython_extension()"
   ]
  },
  {
   "cell_type": "code",
   "execution_count": 2,
   "id": "9c316e3b-d504-4aee-9504-c8d5ae84ca38",
   "metadata": {},
   "outputs": [
    {
     "name": "stdout",
     "output_type": "stream",
     "text": [
      "<Response [200 OK]>\n"
     ]
    },
    {
     "data": {
      "application/json": {
       "content": "T0s=",
       "status": 200
      },
      "text/plain": [
       "<IPython.core.display.JSON object>"
      ]
     },
     "execution_count": 2,
     "metadata": {
      "application/json": {
       "expanded": false,
       "root": "root"
      }
     },
     "output_type": "execute_result"
    }
   ],
   "source": [
    "%get https://httpco.de/200"
   ]
  },
  {
   "cell_type": "code",
   "execution_count": 5,
   "id": "1c5be445-cfb7-4fc7-a596-61e42c4f5798",
   "metadata": {},
   "outputs": [
    {
     "name": "stdout",
     "output_type": "stream",
     "text": [
      "<Response [404 Not Found]>\n"
     ]
    },
    {
     "data": {
      "application/json": {
       "content": "Tm90IEZvdW5k",
       "status": 404
      },
      "text/plain": [
       "<IPython.core.display.JSON object>"
      ]
     },
     "execution_count": 5,
     "metadata": {
      "application/json": {
       "expanded": false,
       "root": "root"
      }
     },
     "output_type": "execute_result"
    }
   ],
   "source": [
    "%get https://httpco.de/404"
   ]
  },
  {
   "cell_type": "code",
   "execution_count": null,
   "id": "2d41702d-b4b7-4a3b-ab21-86f0a842b0f5",
   "metadata": {},
   "outputs": [],
   "source": []
  }
 ],
 "metadata": {
  "kernelspec": {
   "display_name": "Python 3 (ipykernel)",
   "language": "python",
   "name": "python3"
  },
  "language_info": {
   "codemirror_mode": {
    "name": "ipython",
    "version": 3
   },
   "file_extension": ".py",
   "mimetype": "text/x-python",
   "name": "python",
   "nbconvert_exporter": "python",
   "pygments_lexer": "ipython3",
   "version": "3.11.4"
  }
 },
 "nbformat": 4,
 "nbformat_minor": 5
}
